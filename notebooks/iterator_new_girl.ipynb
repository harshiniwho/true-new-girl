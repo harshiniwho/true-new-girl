{
  "nbformat": 4,
  "nbformat_minor": 0,
  "metadata": {
    "colab": {
      "name": "iterator-new-girl.ipynb",
      "provenance": [],
      "collapsed_sections": []
    },
    "kernelspec": {
      "name": "python3",
      "display_name": "Python 3"
    },
    "language_info": {
      "name": "python"
    },
    "accelerator": "GPU"
  },
  "cells": [
    {
      "cell_type": "markdown",
      "metadata": {
        "id": "f8DvcUpLVxFX"
      },
      "source": [
        "Running the whole thing iteratively here cause notebooks are difficult\n"
      ]
    },
    {
      "cell_type": "markdown",
      "metadata": {
        "id": "nBbfYzOCWJ5d"
      },
      "source": [
        "Installations"
      ]
    },
    {
      "cell_type": "code",
      "metadata": {
        "colab": {
          "base_uri": "https://localhost:8080/"
        },
        "id": "U6bQYzg5WI4D",
        "outputId": "69606c10-c593-4574-93a9-f7bafb868ca8"
      },
      "source": [
        "! apt install tesseract-ocr\n",
        "! apt install libtesseract-dev\n",
        "! sudo apt install tesseract-ocr\n",
        "! pip install Pillow\n",
        "! pip install pytesseract\n",
        "import pytesseract\n",
        "from google.colab import files\n",
        "from io import BytesIO\n",
        "from PIL import Image,ImageFilter\n",
        "#from google.colab import drive\n",
        "!sudo apt install tesseract-ocr\n",
        "!pip install pytesseract\n",
        "!pip install tesseract\n",
        "!pip install face_recognition\n",
        "!pip install fe"
      ],
      "execution_count": null,
      "outputs": [
        {
          "output_type": "stream",
          "name": "stdout",
          "text": [
            "Reading package lists... Done\n",
            "Building dependency tree       \n",
            "Reading state information... Done\n",
            "The following additional packages will be installed:\n",
            "  tesseract-ocr-eng tesseract-ocr-osd\n",
            "The following NEW packages will be installed:\n",
            "  tesseract-ocr tesseract-ocr-eng tesseract-ocr-osd\n",
            "0 upgraded, 3 newly installed, 0 to remove and 37 not upgraded.\n",
            "Need to get 4,795 kB of archives.\n",
            "After this operation, 15.8 MB of additional disk space will be used.\n",
            "Get:1 http://archive.ubuntu.com/ubuntu bionic/universe amd64 tesseract-ocr-eng all 4.00~git24-0e00fe6-1.2 [1,588 kB]\n",
            "Get:2 http://archive.ubuntu.com/ubuntu bionic/universe amd64 tesseract-ocr-osd all 4.00~git24-0e00fe6-1.2 [2,989 kB]\n",
            "Get:3 http://archive.ubuntu.com/ubuntu bionic/universe amd64 tesseract-ocr amd64 4.00~git2288-10f4998a-2 [218 kB]\n",
            "Fetched 4,795 kB in 5s (872 kB/s)\n",
            "Selecting previously unselected package tesseract-ocr-eng.\n",
            "(Reading database ... 155047 files and directories currently installed.)\n",
            "Preparing to unpack .../tesseract-ocr-eng_4.00~git24-0e00fe6-1.2_all.deb ...\n",
            "Unpacking tesseract-ocr-eng (4.00~git24-0e00fe6-1.2) ...\n",
            "Selecting previously unselected package tesseract-ocr-osd.\n",
            "Preparing to unpack .../tesseract-ocr-osd_4.00~git24-0e00fe6-1.2_all.deb ...\n",
            "Unpacking tesseract-ocr-osd (4.00~git24-0e00fe6-1.2) ...\n",
            "Selecting previously unselected package tesseract-ocr.\n",
            "Preparing to unpack .../tesseract-ocr_4.00~git2288-10f4998a-2_amd64.deb ...\n",
            "Unpacking tesseract-ocr (4.00~git2288-10f4998a-2) ...\n",
            "Setting up tesseract-ocr-osd (4.00~git24-0e00fe6-1.2) ...\n",
            "Setting up tesseract-ocr-eng (4.00~git24-0e00fe6-1.2) ...\n",
            "Setting up tesseract-ocr (4.00~git2288-10f4998a-2) ...\n",
            "Processing triggers for man-db (2.8.3-2ubuntu0.1) ...\n",
            "Reading package lists... Done\n",
            "Building dependency tree       \n",
            "Reading state information... Done\n",
            "The following additional packages will be installed:\n",
            "  libleptonica-dev\n",
            "The following NEW packages will be installed:\n",
            "  libleptonica-dev libtesseract-dev\n",
            "0 upgraded, 2 newly installed, 0 to remove and 37 not upgraded.\n",
            "Need to get 2,755 kB of archives.\n",
            "After this operation, 13.8 MB of additional disk space will be used.\n",
            "Get:1 http://archive.ubuntu.com/ubuntu bionic/universe amd64 libleptonica-dev amd64 1.75.3-3 [1,308 kB]\n",
            "Get:2 http://archive.ubuntu.com/ubuntu bionic/universe amd64 libtesseract-dev amd64 4.00~git2288-10f4998a-2 [1,447 kB]\n",
            "Fetched 2,755 kB in 4s (640 kB/s)\n",
            "Selecting previously unselected package libleptonica-dev.\n",
            "(Reading database ... 155094 files and directories currently installed.)\n",
            "Preparing to unpack .../libleptonica-dev_1.75.3-3_amd64.deb ...\n",
            "Unpacking libleptonica-dev (1.75.3-3) ...\n",
            "Selecting previously unselected package libtesseract-dev.\n",
            "Preparing to unpack .../libtesseract-dev_4.00~git2288-10f4998a-2_amd64.deb ...\n",
            "Unpacking libtesseract-dev (4.00~git2288-10f4998a-2) ...\n",
            "Setting up libleptonica-dev (1.75.3-3) ...\n",
            "Setting up libtesseract-dev (4.00~git2288-10f4998a-2) ...\n",
            "Reading package lists... Done\n",
            "Building dependency tree       \n",
            "Reading state information... Done\n",
            "tesseract-ocr is already the newest version (4.00~git2288-10f4998a-2).\n",
            "0 upgraded, 0 newly installed, 0 to remove and 37 not upgraded.\n",
            "Requirement already satisfied: Pillow in /usr/local/lib/python3.7/dist-packages (7.1.2)\n",
            "Collecting pytesseract\n",
            "  Downloading pytesseract-0.3.8.tar.gz (14 kB)\n",
            "Requirement already satisfied: Pillow in /usr/local/lib/python3.7/dist-packages (from pytesseract) (7.1.2)\n",
            "Building wheels for collected packages: pytesseract\n",
            "  Building wheel for pytesseract (setup.py) ... \u001b[?25l\u001b[?25hdone\n",
            "  Created wheel for pytesseract: filename=pytesseract-0.3.8-py2.py3-none-any.whl size=14072 sha256=50d61516d071346680585af0bccd2ed69b935e9c4a2101eaf963519503d597e7\n",
            "  Stored in directory: /root/.cache/pip/wheels/a4/89/b9/3f11250225d0f90e5454fcc30fd1b7208db226850715aa9ace\n",
            "Successfully built pytesseract\n",
            "Installing collected packages: pytesseract\n",
            "Successfully installed pytesseract-0.3.8\n",
            "Reading package lists... Done\n",
            "Building dependency tree       \n",
            "Reading state information... Done\n",
            "tesseract-ocr is already the newest version (4.00~git2288-10f4998a-2).\n",
            "0 upgraded, 0 newly installed, 0 to remove and 37 not upgraded.\n",
            "Requirement already satisfied: pytesseract in /usr/local/lib/python3.7/dist-packages (0.3.8)\n",
            "Requirement already satisfied: Pillow in /usr/local/lib/python3.7/dist-packages (from pytesseract) (7.1.2)\n",
            "Collecting tesseract\n",
            "  Downloading tesseract-0.1.3.tar.gz (45.6 MB)\n",
            "\u001b[K     |████████████████████████████████| 45.6 MB 52 kB/s \n",
            "\u001b[?25hBuilding wheels for collected packages: tesseract\n",
            "  Building wheel for tesseract (setup.py) ... \u001b[?25l\u001b[?25hdone\n",
            "  Created wheel for tesseract: filename=tesseract-0.1.3-py3-none-any.whl size=45562569 sha256=43be660f8e56f6b8b6f83b04e57928fc1c621e3567829cce812055c84c574196\n",
            "  Stored in directory: /root/.cache/pip/wheels/01/3f/af/2f732560b9c4e51dd131bcbc6b7466a3124d15ab3fd393f85a\n",
            "Successfully built tesseract\n",
            "Installing collected packages: tesseract\n",
            "Successfully installed tesseract-0.1.3\n",
            "Collecting face_recognition\n",
            "  Downloading face_recognition-1.3.0-py2.py3-none-any.whl (15 kB)\n",
            "Requirement already satisfied: numpy in /usr/local/lib/python3.7/dist-packages (from face_recognition) (1.19.5)\n",
            "Requirement already satisfied: Click>=6.0 in /usr/local/lib/python3.7/dist-packages (from face_recognition) (7.1.2)\n",
            "Requirement already satisfied: dlib>=19.7 in /usr/local/lib/python3.7/dist-packages (from face_recognition) (19.18.0)\n",
            "Collecting face-recognition-models>=0.3.0\n",
            "  Downloading face_recognition_models-0.3.0.tar.gz (100.1 MB)\n",
            "\u001b[K     |████████████████████████████████| 100.1 MB 17 kB/s \n",
            "\u001b[?25hRequirement already satisfied: Pillow in /usr/local/lib/python3.7/dist-packages (from face_recognition) (7.1.2)\n",
            "Building wheels for collected packages: face-recognition-models\n",
            "  Building wheel for face-recognition-models (setup.py) ... \u001b[?25l\u001b[?25hdone\n",
            "  Created wheel for face-recognition-models: filename=face_recognition_models-0.3.0-py2.py3-none-any.whl size=100566185 sha256=af1e3fc8048ce857afcf74aee3491a17ac793498acbada3de2293031e53d4513\n",
            "  Stored in directory: /root/.cache/pip/wheels/d6/81/3c/884bcd5e1c120ff548d57c2ecc9ebf3281c9a6f7c0e7e7947a\n",
            "Successfully built face-recognition-models\n",
            "Installing collected packages: face-recognition-models, face-recognition\n",
            "Successfully installed face-recognition-1.3.0 face-recognition-models-0.3.0\n",
            "Collecting fe\n",
            "  Downloading fe-0.1.dev0-py3-none-any.whl (1.3 kB)\n",
            "Installing collected packages: fe\n",
            "Successfully installed fe-0.1.dev0\n"
          ]
        }
      ]
    },
    {
      "cell_type": "markdown",
      "metadata": {
        "id": "uIzfnHzXW4J8"
      },
      "source": [
        "Imports"
      ]
    },
    {
      "cell_type": "code",
      "metadata": {
        "id": "bVCIlz8tW3mk"
      },
      "source": [
        "import os\n",
        "import cv2\n",
        "import face_recognition\n",
        "import numpy as np\n",
        "import pandas as pd\n",
        "import requests\n",
        "import json\n",
        "\n",
        "from datetime import datetime\n",
        "from PIL import Image\n",
        "from numpy import genfromtxt"
      ],
      "execution_count": null,
      "outputs": []
    },
    {
      "cell_type": "markdown",
      "metadata": {
        "id": "TH8quR6mWNWx"
      },
      "source": [
        "Pre steps"
      ]
    },
    {
      "cell_type": "code",
      "metadata": {
        "id": "W0FAoFGDWOuf"
      },
      "source": [
        "# Let us create a file\n",
        "with open('new-girl-dataset-batch4.json', 'w') as fp:\n",
        "    pass"
      ],
      "execution_count": null,
      "outputs": []
    },
    {
      "cell_type": "code",
      "metadata": {
        "id": "sdpRY6BKYY1C"
      },
      "source": [
        "# construct map from file encodings\n",
        "characters_order = []\n",
        "character_encodings = []\n",
        "for filename in os.listdir('encodings'):\n",
        "  try:\n",
        "    character_encodings.append(read_from_file(filename))\n",
        "    characters_order.append(filename[:-4])\n",
        "  except:\n",
        "    print('oops could not read encoding from ' + filename)"
      ],
      "execution_count": null,
      "outputs": []
    },
    {
      "cell_type": "code",
      "metadata": {
        "id": "sfXe2-W6YtHY"
      },
      "source": [
        "TIMESTAMP_FORMAT = '%Y-%m-%d %I.%M.%S%p'\n",
        "\n",
        "endtime_season1 = datetime.strptime(\"2021-07-08 11.07.00PM\", TIMESTAMP_FORMAT)\n",
        "endtime_season2 = datetime.strptime(\"2021-07-27 9.15.00PM\", TIMESTAMP_FORMAT)"
      ],
      "execution_count": null,
      "outputs": []
    },
    {
      "cell_type": "markdown",
      "metadata": {
        "id": "ufD9METvWPEF"
      },
      "source": [
        "Functions"
      ]
    },
    {
      "cell_type": "code",
      "metadata": {
        "id": "OU2rFjrLWP82"
      },
      "source": [
        "# encoding one image\n",
        "def face_encode(image_name):\n",
        "  char_img = face_recognition.load_image_file('characters/' + image_name)\n",
        "  char_encoding = face_recognition.face_encodings(char_img)[0]\n",
        "  return char_encoding"
      ],
      "execution_count": null,
      "outputs": []
    },
    {
      "cell_type": "code",
      "metadata": {
        "id": "nVAb6WmHW_va"
      },
      "source": [
        "# saving all encodings to file and reading for later executions\n",
        "def write_to_file(data, filename):\n",
        "    with open('encodings/' + filename + '.csv', 'wb') as f:\n",
        "        np.savetxt(f, data, delimiter=\",\")\n",
        "\n",
        "\n",
        "def read_from_file(filename):\n",
        "    data = genfromtxt('encodings/' + filename, delimiter=',')\n",
        "    return data"
      ],
      "execution_count": null,
      "outputs": []
    },
    {
      "cell_type": "code",
      "metadata": {
        "id": "iubA6porXEfw"
      },
      "source": [
        "def fetch_image(filename, file_link):\n",
        "  # fetch image from source\n",
        "  response = requests.get(file_link)\n",
        "\n",
        "  file = open(filename, \"wb\")\n",
        "  file.write(response.content)\n",
        "  file.close()"
      ],
      "execution_count": null,
      "outputs": []
    },
    {
      "cell_type": "code",
      "metadata": {
        "id": "I79map-YXtF3"
      },
      "source": [
        "def read_lines(data):\n",
        "  # cropping image\n",
        "  img = Image.open(data['filename'])\n",
        "  width, height = img.size\n",
        "  # cropping image, removing top half\n",
        "  img_cropped = img.crop((0, height/2, width, height))\n",
        "\n",
        "  # using tessarect to read\n",
        "  pytesseract.pytesseract.tesseract_cmd = (\n",
        "      r'/usr/bin/tesseract'\n",
        "  )\n",
        "  text = pytesseract.image_to_string(img_cropped)\n",
        "  return text[:-1].strip().replace('\\n', ' ').replace('|', 'I')"
      ],
      "execution_count": null,
      "outputs": []
    },
    {
      "cell_type": "code",
      "metadata": {
        "id": "Y1lUCvchYcmQ"
      },
      "source": [
        "def check_for_characters(match):\n",
        "  characters = []\n",
        "  for i in range(len(character_encodings)):\n",
        "    if match[i]:\n",
        "      characters.append(characters_order[i])\n",
        "  return characters"
      ],
      "execution_count": null,
      "outputs": []
    },
    {
      "cell_type": "code",
      "metadata": {
        "id": "t-6_tCkMYgYC"
      },
      "source": [
        "def find_characters(data):\n",
        "  load_img = face_recognition.load_image_file(data['filename'])\n",
        "\n",
        "  img_encoding = face_recognition.face_encodings(load_img)\n",
        "  characters = []\n",
        "  for face_encoding in img_encoding:\n",
        "    if (face_encoding.any()):\n",
        "      match = face_recognition.compare_faces(character_encodings, face_encoding)\n",
        "      # ok make this check more efficient\n",
        "      chars = check_for_characters(match)\n",
        "      characters.extend(chars)\n",
        "  return characters"
      ],
      "execution_count": null,
      "outputs": []
    },
    {
      "cell_type": "code",
      "metadata": {
        "id": "biplnnG3Y74R"
      },
      "source": [
        "def fetch_timestamp(filename):\n",
        "  begin = 10 # skipping the words screenshot\n",
        "  end = -1\n",
        "  if filename.find('PM') != -1:\n",
        "    end = filename.find('PM')\n",
        "  else:\n",
        "    end = filename.find('AM')\n",
        "  if end == -1:\n",
        "    return\n",
        "  end = end + 2\n",
        "  timestamp = filename[begin:end]\n",
        "  timestamp = timestamp.replace('at', ' ')\n",
        "  return timestamp"
      ],
      "execution_count": null,
      "outputs": []
    },
    {
      "cell_type": "code",
      "metadata": {
        "id": "LTDDB-68ZDrM"
      },
      "source": [
        "def map_season(timestamp):\n",
        "  timestamp = datetime.strptime(timestamp, TIMESTAMP_FORMAT)\n",
        "  if timestamp > endtime_season2:\n",
        "    return 3\n",
        "  if timestamp > endtime_season1:\n",
        "    return 2\n",
        "  return 1"
      ],
      "execution_count": null,
      "outputs": []
    },
    {
      "cell_type": "code",
      "metadata": {
        "id": "Bi-vZeqsbnYq"
      },
      "source": [
        "def append_to_output(data):\n",
        "  with open('new-girl-dataset-batch60.json', 'w') as fp:\n",
        "    json.dump(data, fp)"
      ],
      "execution_count": null,
      "outputs": []
    },
    {
      "cell_type": "markdown",
      "metadata": {
        "id": "NsUeTgqBWQfm"
      },
      "source": [
        "Iterating loop of all the different features"
      ]
    },
    {
      "cell_type": "code",
      "metadata": {
        "id": "0jK0B7xwa_dL"
      },
      "source": [
        "with open('out.json', 'r') as f:\n",
        "  files = json.load(f)"
      ],
      "execution_count": null,
      "outputs": []
    },
    {
      "cell_type": "code",
      "metadata": {
        "id": "BTeKmUxZWT7c"
      },
      "source": [
        "data_list = []\n",
        "for resource in files['resources']:\n",
        "  filename = resource['display_name'] + '.' + resource['format']\n",
        "  file_link = resource['url']\n",
        "  fetch_image(filename, file_link)\n",
        "  data = {}\n",
        "  data['filename'] = filename\n",
        "  data['imageLink'] = file_link\n",
        "  subtitles = read_lines(data)\n",
        "  if subtitles:\n",
        "    data['subtitle'] = subtitles\n",
        "  else:\n",
        "    data['subtitle'] = 'NA'\n",
        "  data['characters'] = find_characters(data)\n",
        "  data['timestamp'] = fetch_timestamp(data['filename'])\n",
        "  data['season'] = map_season(data['timestamp'])\n",
        "  data_list.append(data)\n",
        "append_to_output(data_list)"
      ],
      "execution_count": null,
      "outputs": []
    }
  ]
}